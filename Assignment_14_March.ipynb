{
 "cells": [
  {
   "cell_type": "markdown",
   "id": "1a459e55-19a1-4971-b7fb-2d508df04d2f",
   "metadata": {},
   "source": [
    "## Q1. Write a Python function that takes in two arrays of data and calculates the F-value for a variance ratio test. The function should return the F-value and the corresponding p-value for the test."
   ]
  },
  {
   "cell_type": "code",
   "execution_count": 1,
   "id": "4b92b3cd-7600-4d3f-973d-d88cef22723b",
   "metadata": {},
   "outputs": [],
   "source": [
    "import numpy as np\n",
    "import scipy.stats as stat\n",
    "def F_test(arr1,arr2):\n",
    "    f = np.var(arr1)/np.var(group2)\n",
    "    nun = arr1.size-1\n",
    "    dun = arr2.size-1\n",
    "    p_value = 1-stat.f.cdf(f, nun, dun)\n",
    "    return f, p_value\n"
   ]
  },
  {
   "cell_type": "markdown",
   "id": "6f2b00b7-66ad-4c65-8add-b95d697fba11",
   "metadata": {},
   "source": [
    "## Q2. Given a significance level of 0.05 and the degrees of freedom for the numerator and denominator of an F-distribution, write a Python function that returns the critical F-value for a two-tailed test."
   ]
  },
  {
   "cell_type": "code",
   "execution_count": 2,
   "id": "7ab95e7d-3d01-4a1d-a140-571ffd52301d",
   "metadata": {},
   "outputs": [],
   "source": [
    "import scipy.stats as stat\n",
    "def critical_F_value(df1,df2):\n",
    "    significance_value = 0.05\n",
    "    Critical_value = stat.f.ppf(q=1-(significance_value/2),dfn=df1,dfd=df2)\n",
    "    return Critical_value"
   ]
  },
  {
   "cell_type": "markdown",
   "id": "b997e47b-7a17-42c8-8341-d593997a3170",
   "metadata": {},
   "source": [
    "## Q3. Write a Python program that generates random samples from two normal distributions with known variances and uses an F-test to determine if the variances are equal. The program should output the F-value, degrees of freedom, and p-value for the test."
   ]
  },
  {
   "cell_type": "code",
   "execution_count": 4,
   "id": "fad6faa7-978b-4b89-bd46-45007537ffe6",
   "metadata": {},
   "outputs": [],
   "source": [
    "import numpy as np\n",
    "def calc_F_test():\n",
    "    arr1 = np.random.normal(5)\n",
    "    arr2 = np.random.normal(5)\n",
    "    f = np.var(arr1)/np.var(group2)\n",
    "    nun = arr1.size-1\n",
    "    dun = arr2.size-1\n",
    "    p_value = 1-stat.f.cdf(f, nun, dun)\n",
    "    return f, p_value,nun,dun"
   ]
  },
  {
   "cell_type": "markdown",
   "id": "260c9ae1-f726-466a-92dc-82c9e5e7a812",
   "metadata": {},
   "source": [
    "## Q4.The variances of two populations are known to be 10 and 15. A sample of 12 observations is taken from each population. Conduct an F-test at the 5% significance level to determine if the variances are significantly different."
   ]
  },
  {
   "cell_type": "code",
   "execution_count": 5,
   "id": "d6fa9af1-51d7-4575-b65e-c5d48e34f8c9",
   "metadata": {},
   "outputs": [
    {
     "name": "stdout",
     "output_type": "stream",
     "text": [
      "Variances are not significantly different\n"
     ]
    }
   ],
   "source": [
    "sample_size = 12\n",
    "var1 = 10/sample_size\n",
    "var2 = 15/sample_size\n",
    "\n",
    "f_value = var1/var2\n",
    "significance_value = 0.05\n",
    "df1 = 11\n",
    "df2 = 11\n",
    "critical_value = stat.f.ppf(q=1-significance_value,dfn=df1,dfd=df2)\n",
    "\n",
    "if f_value>critical_value:\n",
    "    print(\"Variances are significantly different\")\n",
    "else:\n",
    "    print(\"Variances are not significantly different\")"
   ]
  },
  {
   "cell_type": "markdown",
   "id": "af2dfe7e-d2b7-4647-9d29-886a2c6f7ecb",
   "metadata": {},
   "source": [
    "## Q5. A manufacturer claims that the variance of the diameter of a certain product is 0.005. A sample of 25 products is taken, and the sample variance is found to be 0.006. Conduct an F-test at the 1% significance level to determine if the claim is justified."
   ]
  },
  {
   "cell_type": "code",
   "execution_count": 9,
   "id": "e2fead8f-9895-4bf9-a8f6-bcb38d56b74a",
   "metadata": {},
   "outputs": [
    {
     "name": "stdout",
     "output_type": "stream",
     "text": [
      "Claim is justified\n"
     ]
    }
   ],
   "source": [
    "var1 = 0.005\n",
    "var2 = 0.006\n",
    "f_test = var1/var2\n",
    "df1 = 24\n",
    "df2 = 1\n",
    "significance_value=0.1\n",
    "critical_value = stat.f.ppf(q=1-significance_value,dfn=df1,dfd=df2)\n",
    "\n",
    "if f_test>critical_value:\n",
    "    print(\"Claim is not justified\")\n",
    "else:\n",
    "    print(\"Claim is justified\")"
   ]
  },
  {
   "cell_type": "markdown",
   "id": "233ff397-2490-46f3-a701-7394994441fe",
   "metadata": {},
   "source": [
    "## Q6. Write a Python function that takes in the degrees of freedom for the numerator and denominator of an F-distribution and calculates the mean and variance of the distribution. The function should return the mean and variance as a tuple."
   ]
  },
  {
   "cell_type": "code",
   "execution_count": null,
   "id": "04d7c83c-1448-49ed-b21a-05e3c5efa8ba",
   "metadata": {},
   "outputs": [],
   "source": []
  },
  {
   "cell_type": "markdown",
   "id": "700ade42-aad8-44c3-bfc1-def4496c8312",
   "metadata": {},
   "source": [
    "## Q7. A random sample of 10 measurements is taken from a normal population with unknown variance. The sample variance is found to be 25. Another random sample of 15 measurements is taken from another normal population with unknown variance, and the sample variance is found to be 20. Conduct an F-test at the 10% significance level to determine if the variances are significantly different."
   ]
  },
  {
   "cell_type": "code",
   "execution_count": 6,
   "id": "c6d9e5d4-2486-4890-b05c-6fe3669fef48",
   "metadata": {},
   "outputs": [
    {
     "name": "stdout",
     "output_type": "stream",
     "text": [
      "Variances are not significantly different\n"
     ]
    }
   ],
   "source": [
    "var1 = 25\n",
    "var2 = 20\n",
    "\n",
    "f_value = var1/var2\n",
    "significance_value = 0.10\n",
    "df1 = 9\n",
    "df2 = 14\n",
    "critical_value = stat.f.ppf(q=1-significance_value,dfn=df1,dfd=df2)\n",
    "\n",
    "if f_value>critical_value:\n",
    "    print(\"Variances are significantly different\")\n",
    "else:\n",
    "    print(\"Variances are not significantly different\")"
   ]
  },
  {
   "cell_type": "markdown",
   "id": "b7ac1942-4879-4736-98b9-4e334b11d097",
   "metadata": {},
   "source": [
    "## Q8. The following data represent the waiting times in minutes at two different restaurants on a Saturday night: Restaurant A: 24, 25, 28, 23, 22, 20, 27; Restaurant B: 31, 33, 35, 30, 32, 36. Conduct an F-test at the 5% significance level to determine if the variances are significantly different."
   ]
  },
  {
   "cell_type": "code",
   "execution_count": 7,
   "id": "05e301e3-7ac6-4c36-8671-9b1f7ea11049",
   "metadata": {},
   "outputs": [
    {
     "name": "stdout",
     "output_type": "stream",
     "text": [
      "Variances are not significantly different\n"
     ]
    }
   ],
   "source": [
    "A = [24,25,28,23,22,20,27]\n",
    "B = [31,33,35,30,32,36]\n",
    "f_value = np.var(A)/np.var(B)\n",
    "significance_value = 0.05\n",
    "df1 = len(A)-1\n",
    "df2 = len(B)-1\n",
    "critical_value = stat.f.ppf(q=1-significance_value,dfn=df1,dfd=df2)\n",
    "\n",
    "if f_value>critical_value:\n",
    "    print(\"Variances are significantly different\")\n",
    "else:\n",
    "    print(\"Variances are not significantly different\")"
   ]
  },
  {
   "cell_type": "markdown",
   "id": "a74dbfb6-7307-4889-8783-85ce43aa18ab",
   "metadata": {},
   "source": [
    "## Q9. The following data represent the test scores of two groups of students: Group A: 80, 85, 90, 92, 87, 83; Group B: 75, 78, 82, 79, 81, 84. Conduct an F-test at the 1% significance level to determine if the variances are significantly different."
   ]
  },
  {
   "cell_type": "code",
   "execution_count": 8,
   "id": "e1f9d8d7-40f9-459c-987c-62cfb558d5d6",
   "metadata": {},
   "outputs": [
    {
     "name": "stdout",
     "output_type": "stream",
     "text": [
      "Variances are not significantly different\n"
     ]
    }
   ],
   "source": [
    "Group_A = [24,25,28,23,22,20,27]\n",
    "Group_B = [31,33,35,30,32,36]\n",
    "f_value = np.var(Group_A)/np.var(Group_B)\n",
    "significance_value = 0.10\n",
    "df1 = len(Group_A)-1\n",
    "df2 = len(Group_B)-1\n",
    "critical_value = stat.f.ppf(q=1-significance_value,dfn=df1,dfd=df2)\n",
    "\n",
    "if f_value>critical_value:\n",
    "    print(\"Variances are significantly different\")\n",
    "else:\n",
    "    print(\"Variances are not significantly different\")"
   ]
  },
  {
   "cell_type": "code",
   "execution_count": null,
   "id": "347f2856-5262-4183-aa5e-ba2521165f85",
   "metadata": {},
   "outputs": [],
   "source": []
  }
 ],
 "metadata": {
  "kernelspec": {
   "display_name": "Python 3 (ipykernel)",
   "language": "python",
   "name": "python3"
  },
  "language_info": {
   "codemirror_mode": {
    "name": "ipython",
    "version": 3
   },
   "file_extension": ".py",
   "mimetype": "text/x-python",
   "name": "python",
   "nbconvert_exporter": "python",
   "pygments_lexer": "ipython3",
   "version": "3.10.8"
  }
 },
 "nbformat": 4,
 "nbformat_minor": 5
}
